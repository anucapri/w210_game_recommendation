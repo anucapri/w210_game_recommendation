{
  "nbformat": 4,
  "nbformat_minor": 0,
  "metadata": {
    "colab": {
      "name": "BoardGameGeekAPI.ipynb",
      "provenance": [],
      "authorship_tag": "ABX9TyOdFx4+oN5oJd4MbZ8LCw7s",
      "include_colab_link": true
    },
    "kernelspec": {
      "name": "python3",
      "display_name": "Python 3"
    }
  },
  "cells": [
    {
      "cell_type": "markdown",
      "metadata": {
        "id": "view-in-github",
        "colab_type": "text"
      },
      "source": [
        "<a href=\"https://colab.research.google.com/github/susandong/w210_game_recommendation/blob/main/BoardGameGeekAPI.ipynb\" target=\"_parent\"><img src=\"https://colab.research.google.com/assets/colab-badge.svg\" alt=\"Open In Colab\"/></a>"
      ]
    },
    {
      "cell_type": "code",
      "metadata": {
        "colab": {
          "base_uri": "https://localhost:8080/"
        },
        "id": "d5lRqNxllRxx",
        "outputId": "b77daa86-f7bf-496a-ab6b-d3ba1c120c52"
      },
      "source": [
        "#pip install boardgamegeek2"
      ],
      "execution_count": null,
      "outputs": [
        {
          "output_type": "stream",
          "text": [
            "Collecting boardgamegeek2\n",
            "  Downloading https://files.pythonhosted.org/packages/d6/a0/49f8c222ca6f952fa570a49aef0866b275fbc2cc0d5e0906000c31bfd0d5/boardgamegeek2-1.0.1-py2.py3-none-any.whl\n",
            "Requirement already satisfied: requests>=2.3.0 in /usr/local/lib/python3.6/dist-packages (from boardgamegeek2) (2.23.0)\n",
            "Collecting requests-cache>=0.4.4\n",
            "  Downloading https://files.pythonhosted.org/packages/7f/55/9b1c40eb83c16d8fc79c5f6c2ffade04208b080670fbfc35e0a5effb5a92/requests_cache-0.5.2-py2.py3-none-any.whl\n",
            "Requirement already satisfied: certifi>=2017.4.17 in /usr/local/lib/python3.6/dist-packages (from requests>=2.3.0->boardgamegeek2) (2020.12.5)\n",
            "Requirement already satisfied: idna<3,>=2.5 in /usr/local/lib/python3.6/dist-packages (from requests>=2.3.0->boardgamegeek2) (2.10)\n",
            "Requirement already satisfied: urllib3!=1.25.0,!=1.25.1,<1.26,>=1.21.1 in /usr/local/lib/python3.6/dist-packages (from requests>=2.3.0->boardgamegeek2) (1.24.3)\n",
            "Requirement already satisfied: chardet<4,>=3.0.2 in /usr/local/lib/python3.6/dist-packages (from requests>=2.3.0->boardgamegeek2) (3.0.4)\n",
            "Installing collected packages: requests-cache, boardgamegeek2\n",
            "Successfully installed boardgamegeek2-1.0.1 requests-cache-0.5.2\n"
          ],
          "name": "stdout"
        }
      ]
    },
    {
      "cell_type": "code",
      "metadata": {
        "id": "qBI84KH-laUx"
      },
      "source": [
        "#\r\n",
        "from boardgamegeek import BGGClient\r\n",
        "bgg = BGGClient()\r\n",
        "username = \"Stupendous12\"\r\n",
        "collection = bgg.collection(username, min_rating=8.0)"
      ],
      "execution_count": null,
      "outputs": []
    },
    {
      "cell_type": "code",
      "metadata": {
        "colab": {
          "base_uri": "https://localhost:8080/"
        },
        "id": "XYn6yBJwo3S_",
        "outputId": "f940353b-bcb0-47ac-ad6d-387c2a536b3a"
      },
      "source": [
        "for i in collection.items:\r\n",
        "  print(i)"
      ],
      "execution_count": null,
      "outputs": [
        {
          "output_type": "stream",
          "text": [
            "CollectionBoardGame (id: 13)\n",
            "CollectionBoardGame (id: 9209)\n"
          ],
          "name": "stdout"
        }
      ]
    }
  ]
}